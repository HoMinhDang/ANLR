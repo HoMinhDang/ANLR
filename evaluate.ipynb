{
 "cells": [
  {
   "cell_type": "markdown",
   "metadata": {},
   "source": [
    "# Đánh giá mô hình phát hiện ký tự trên biển số với tập dữ liệu biển số Việt Nam \n",
    "---"
   ]
  },
  {
   "cell_type": "markdown",
   "metadata": {},
   "source": [
    "## Nhập thư viện"
   ]
  },
  {
   "cell_type": "code",
   "execution_count": 102,
   "metadata": {},
   "outputs": [],
   "source": [
    "import numpy as np\n",
    "import pandas as pd\n",
    "import matplotlib.pyplot as plt\n",
    "import torch\n",
    "import os\n",
    "import sys\n",
    "sys.path.append(os.path.abspath('yolov5'))\n",
    "from yolov5.utils.general import non_max_suppression\n",
    "from yolov5.utils.dataloaders import letterbox  \n",
    "from typing import List\n",
    "from yolov5.models.experimental import attempt_load\n",
    "import cv2\n",
    "import math"
   ]
  },
  {
   "cell_type": "markdown",
   "metadata": {},
   "source": [
    "## Nhập mô hình"
   ]
  },
  {
   "cell_type": "code",
   "execution_count": 103,
   "metadata": {},
   "outputs": [
    {
     "name": "stderr",
     "output_type": "stream",
     "text": [
      "Fusing layers... \n",
      "custom_model_char summary: 146 layers, 4852562 parameters, 0 gradients, 13.8 GFLOPs\n"
     ]
    }
   ],
   "source": [
    "model_path = 'char_custom.pt'\n",
    "device = torch.device('cuda' if torch.cuda.is_available() else 'cpu')\n",
    "model = attempt_load(model_path, device=device)  # load FP32 model"
   ]
  },
  {
   "cell_type": "markdown",
   "metadata": {},
   "source": [
    "## Các hàm hỗ trợ"
   ]
  },
  {
   "cell_type": "code",
   "execution_count": 104,
   "metadata": {},
   "outputs": [],
   "source": [
    "def load_image(image_path, img_size = 128):\n",
    "    \"\"\"\n",
    "        Hàm load ảnh từ đường dẫn, trả về tensor đã được chuẩn hóa\n",
    "    \"\"\"\n",
    "    img = cv2.imread(image_path)\n",
    "    img = letterbox(img, img_size)[0]\n",
    "    img = img[:, :, ::-1].transpose(2, 0, 1)  # BGR to RGB\n",
    "    img = np.ascontiguousarray(img) / 255.0 # normalize to [0, 1]\n",
    "\n",
    "    img_tensor = torch.from_numpy(img).float().unsqueeze(0)\n",
    "    return img_tensor"
   ]
  },
  {
   "cell_type": "code",
   "execution_count": 105,
   "metadata": {},
   "outputs": [],
   "source": [
    "def detect(model, img_tensor, conf_thres=0.25, iou_thres=0.45):\n",
    "    \"\"\"\n",
    "        Hàm thực hiện phát hiện đối tượng trong ảnh\n",
    "    \"\"\"\n",
    "    model.eval()\n",
    "    with torch.no_grad():\n",
    "        pred = model(img_tensor)[0]\n",
    "        pred = non_max_suppression(pred, conf_thres, iou_thres)\n",
    "    return pred"
   ]
  },
  {
   "cell_type": "code",
   "execution_count": 106,
   "metadata": {},
   "outputs": [],
   "source": [
    "def distance(xyxy1, xyxy2):\n",
    "    x1, y1, x2, y2 = xyxy1\n",
    "    x1_, y1_, x2_, y2_ = xyxy2\n",
    "    return math.sqrt(((x1 + x2) / 2 - (x1_ + x2_) / 2) ** 2 + ((y1 + y2) / 2 - (y1_ + y2_) / 2) ** 2)\n",
    "\n",
    "def filter_bbox(pred, min_distance=10):\n",
    "    \"\"\"\n",
    "    Lọc các bounding box gần nhau, giữ lại bounding box có confidence cao hơn.\n",
    "    \"\"\"\n",
    "    pred = pred[0] if isinstance(pred, list) else pred  # Đảm bảo đầu vào là tensor\n",
    "    keep = torch.ones(len(pred), dtype=torch.bool)\n",
    "    \n",
    "    for i, det1 in enumerate(pred):\n",
    "        if not keep[i]:\n",
    "            continue\n",
    "        for j, det2 in enumerate(pred):\n",
    "            if i != j and keep[j]:\n",
    "                if distance(det1[:4], det2[:4]) < min_distance:\n",
    "                    if det1[4] < det2[4]:\n",
    "                        keep[i] = False\n",
    "                        break\n",
    "                    else:\n",
    "                        keep[j] = False\n",
    "    \n",
    "    return [pred[keep]]"
   ]
  },
  {
   "cell_type": "code",
   "execution_count": null,
   "metadata": {},
   "outputs": [],
   "source": [
    "def extract_plate_label(pred, class_names=None, var_thres = 0.4):\n",
    "    \"\"\"\n",
    "        Hàm trích xuất nhãn biển số từ kết quả phát hiện\n",
    "    \"\"\"\n",
    "    if not pred: return \"\"\n",
    "\n",
    "    centers = []\n",
    "    for det in pred:\n",
    "        for x1, y1, x2, y2, conf, cls in det:\n",
    "            center_x, center_y = (x1 + x2) // 2, (y1 + y2) // 2\n",
    "            label = class_names[int(cls)] if class_names else f'{conf:.2f}'\n",
    "            centers.append((center_x, center_y, label, y2 - y1))\n",
    "\n",
    "    if len(centers) < 2: return \"\"\n",
    "\n",
    "    X, Y = np.array([c[0] for c in centers]), np.array([c[1] for c in centers])\n",
    "    m, b = np.linalg.lstsq(np.vstack([X, np.ones(len(X))]).T, Y, rcond=None)[0]\n",
    "\n",
    "    residuals = np.abs(Y - (m * X + b))\n",
    "    avg_bbox_height = np.mean([c[3] for c in centers])\n",
    "    var_thresh = avg_bbox_height * var_thres\n",
    "\n",
    "    if np.var(residuals) < var_thresh:\n",
    "        return \"\".join(label for _, _, label, _ in sorted(centers))\n",
    "    \n",
    "    line1, line2 = [], []\n",
    "    for x, y, label, _ in centers:\n",
    "        (line1 if y < m*x + b else line2).append((x, label))\n",
    "    return \"\".join(\"\".join(label for _, label in sorted(line)) for line in [line1, line2] if line)"
   ]
  },
  {
   "cell_type": "markdown",
   "metadata": {},
   "source": [
    "## Nhập dữ liệu "
   ]
  },
  {
   "cell_type": "code",
   "execution_count": 108,
   "metadata": {},
   "outputs": [],
   "source": [
    "df = pd.read_csv('crop_labels.csv')\n",
    "df['Label'] = df['Label'].str.replace(\" \", \"\")\n",
    "df.drop(columns=['Type'], inplace=True)"
   ]
  },
  {
   "cell_type": "code",
   "execution_count": 109,
   "metadata": {},
   "outputs": [
    {
     "data": {
      "text/html": [
       "<div>\n",
       "<style scoped>\n",
       "    .dataframe tbody tr th:only-of-type {\n",
       "        vertical-align: middle;\n",
       "    }\n",
       "\n",
       "    .dataframe tbody tr th {\n",
       "        vertical-align: top;\n",
       "    }\n",
       "\n",
       "    .dataframe thead th {\n",
       "        text-align: right;\n",
       "    }\n",
       "</style>\n",
       "<table border=\"1\" class=\"dataframe\">\n",
       "  <thead>\n",
       "    <tr style=\"text-align: right;\">\n",
       "      <th></th>\n",
       "      <th>Name</th>\n",
       "      <th>Label</th>\n",
       "    </tr>\n",
       "  </thead>\n",
       "  <tbody>\n",
       "    <tr>\n",
       "      <th>0</th>\n",
       "      <td>car_1.jpg</td>\n",
       "      <td>30F11292</td>\n",
       "    </tr>\n",
       "    <tr>\n",
       "      <th>1</th>\n",
       "      <td>car_2.jpg</td>\n",
       "      <td>30F78286</td>\n",
       "    </tr>\n",
       "    <tr>\n",
       "      <th>2</th>\n",
       "      <td>car_3.jpg</td>\n",
       "      <td>30F90230</td>\n",
       "    </tr>\n",
       "    <tr>\n",
       "      <th>3</th>\n",
       "      <td>car_4.jpg</td>\n",
       "      <td>30E49536</td>\n",
       "    </tr>\n",
       "    <tr>\n",
       "      <th>4</th>\n",
       "      <td>car_5.jpg</td>\n",
       "      <td>98A29814</td>\n",
       "    </tr>\n",
       "    <tr>\n",
       "      <th>...</th>\n",
       "      <td>...</td>\n",
       "      <td>...</td>\n",
       "    </tr>\n",
       "    <tr>\n",
       "      <th>6638</th>\n",
       "      <td>type7_995.jpg</td>\n",
       "      <td>72H01719</td>\n",
       "    </tr>\n",
       "    <tr>\n",
       "      <th>6639</th>\n",
       "      <td>type7_996.jpg</td>\n",
       "      <td>72H00538</td>\n",
       "    </tr>\n",
       "    <tr>\n",
       "      <th>6640</th>\n",
       "      <td>type7_997.jpg</td>\n",
       "      <td>72C06086</td>\n",
       "    </tr>\n",
       "    <tr>\n",
       "      <th>6641</th>\n",
       "      <td>type7_998.jpg</td>\n",
       "      <td>92H01008</td>\n",
       "    </tr>\n",
       "    <tr>\n",
       "      <th>6642</th>\n",
       "      <td>type7_999.jpg</td>\n",
       "      <td>60C50833</td>\n",
       "    </tr>\n",
       "  </tbody>\n",
       "</table>\n",
       "<p>6643 rows × 2 columns</p>\n",
       "</div>"
      ],
      "text/plain": [
       "               Name     Label\n",
       "0         car_1.jpg  30F11292\n",
       "1         car_2.jpg  30F78286\n",
       "2         car_3.jpg  30F90230\n",
       "3         car_4.jpg  30E49536\n",
       "4         car_5.jpg  98A29814\n",
       "...             ...       ...\n",
       "6638  type7_995.jpg  72H01719\n",
       "6639  type7_996.jpg  72H00538\n",
       "6640  type7_997.jpg  72C06086\n",
       "6641  type7_998.jpg  92H01008\n",
       "6642  type7_999.jpg  60C50833\n",
       "\n",
       "[6643 rows x 2 columns]"
      ]
     },
     "execution_count": 109,
     "metadata": {},
     "output_type": "execute_result"
    }
   ],
   "source": [
    "df"
   ]
  },
  {
   "cell_type": "markdown",
   "metadata": {},
   "source": [
    "## Đánh giá mô hình"
   ]
  },
  {
   "cell_type": "code",
   "execution_count": 110,
   "metadata": {},
   "outputs": [],
   "source": [
    "class_names = [\n",
    "    '0', '1', '2', '3', '4', '5', '6', '7', '8', '9',\n",
    "    'A', 'B', 'C', 'D', 'E', 'F', 'G', 'H', 'I', 'J',\n",
    "    'K', 'L', 'M', 'N', 'O', 'P', 'Q', 'R', 'S', 'T',\n",
    "    'U', 'V', 'W', 'X', 'Y', 'Z'\n",
    "]\n",
    "\n",
    "dir_path = 'cropped/'\n",
    "conf_thres = 0.1\n",
    "iou_thres = 0.04\n",
    "\n",
    "\n",
    "for index, row in df.iterrows():\n",
    "    image_path = row['Name']\n",
    "    image_path = os.path.join(dir_path, image_path)\n",
    "    if not os.path.exists(image_path):\n",
    "        print(f\"Image not found: {image_path}\")\n",
    "        continue\n",
    "    img_tensor = load_image(image_path)\n",
    "    pred = detect(model, img_tensor, conf_thres, iou_thres)\n",
    "    \n",
    "    if pred[0] is not None:\n",
    "        pred = filter_bbox(pred)\n",
    "        plate_label = extract_plate_label(pred, class_names=model.module.names if hasattr(model, 'module') else model.names)\n",
    "        df.at[index, 'Predicted_Label'] = plate_label\n",
    "    else:\n",
    "        df.at[index, 'Predicted_Label'] = \"\""
   ]
  },
  {
   "cell_type": "code",
   "execution_count": 116,
   "metadata": {},
   "outputs": [],
   "source": [
    "df['Predicted_Label'] = df['Predicted_Label'].str.upper()"
   ]
  },
  {
   "cell_type": "code",
   "execution_count": 117,
   "metadata": {},
   "outputs": [
    {
     "data": {
      "text/html": [
       "<div>\n",
       "<style scoped>\n",
       "    .dataframe tbody tr th:only-of-type {\n",
       "        vertical-align: middle;\n",
       "    }\n",
       "\n",
       "    .dataframe tbody tr th {\n",
       "        vertical-align: top;\n",
       "    }\n",
       "\n",
       "    .dataframe thead th {\n",
       "        text-align: right;\n",
       "    }\n",
       "</style>\n",
       "<table border=\"1\" class=\"dataframe\">\n",
       "  <thead>\n",
       "    <tr style=\"text-align: right;\">\n",
       "      <th></th>\n",
       "      <th>Name</th>\n",
       "      <th>Label</th>\n",
       "      <th>Predicted_Label</th>\n",
       "    </tr>\n",
       "  </thead>\n",
       "  <tbody>\n",
       "    <tr>\n",
       "      <th>0</th>\n",
       "      <td>car_1.jpg</td>\n",
       "      <td>30F11292</td>\n",
       "      <td>30F11292</td>\n",
       "    </tr>\n",
       "    <tr>\n",
       "      <th>1</th>\n",
       "      <td>car_2.jpg</td>\n",
       "      <td>30F78286</td>\n",
       "      <td>3DF78286</td>\n",
       "    </tr>\n",
       "    <tr>\n",
       "      <th>2</th>\n",
       "      <td>car_3.jpg</td>\n",
       "      <td>30F90230</td>\n",
       "      <td>90F90230</td>\n",
       "    </tr>\n",
       "    <tr>\n",
       "      <th>3</th>\n",
       "      <td>car_4.jpg</td>\n",
       "      <td>30E49536</td>\n",
       "      <td>30E49536</td>\n",
       "    </tr>\n",
       "    <tr>\n",
       "      <th>4</th>\n",
       "      <td>car_5.jpg</td>\n",
       "      <td>98A29814</td>\n",
       "      <td>98A29814</td>\n",
       "    </tr>\n",
       "    <tr>\n",
       "      <th>...</th>\n",
       "      <td>...</td>\n",
       "      <td>...</td>\n",
       "      <td>...</td>\n",
       "    </tr>\n",
       "    <tr>\n",
       "      <th>6638</th>\n",
       "      <td>type7_995.jpg</td>\n",
       "      <td>72H01719</td>\n",
       "      <td>72ND771</td>\n",
       "    </tr>\n",
       "    <tr>\n",
       "      <th>6639</th>\n",
       "      <td>type7_996.jpg</td>\n",
       "      <td>72H00538</td>\n",
       "      <td>72D5</td>\n",
       "    </tr>\n",
       "    <tr>\n",
       "      <th>6640</th>\n",
       "      <td>type7_997.jpg</td>\n",
       "      <td>72C06086</td>\n",
       "      <td>EF</td>\n",
       "    </tr>\n",
       "    <tr>\n",
       "      <th>6641</th>\n",
       "      <td>type7_998.jpg</td>\n",
       "      <td>92H01008</td>\n",
       "      <td>R1DB</td>\n",
       "    </tr>\n",
       "    <tr>\n",
       "      <th>6642</th>\n",
       "      <td>type7_999.jpg</td>\n",
       "      <td>60C50833</td>\n",
       "      <td></td>\n",
       "    </tr>\n",
       "  </tbody>\n",
       "</table>\n",
       "<p>6643 rows × 3 columns</p>\n",
       "</div>"
      ],
      "text/plain": [
       "               Name     Label Predicted_Label\n",
       "0         car_1.jpg  30F11292        30F11292\n",
       "1         car_2.jpg  30F78286        3DF78286\n",
       "2         car_3.jpg  30F90230        90F90230\n",
       "3         car_4.jpg  30E49536        30E49536\n",
       "4         car_5.jpg  98A29814        98A29814\n",
       "...             ...       ...             ...\n",
       "6638  type7_995.jpg  72H01719         72ND771\n",
       "6639  type7_996.jpg  72H00538            72D5\n",
       "6640  type7_997.jpg  72C06086              EF\n",
       "6641  type7_998.jpg  92H01008            R1DB\n",
       "6642  type7_999.jpg  60C50833                \n",
       "\n",
       "[6643 rows x 3 columns]"
      ]
     },
     "execution_count": 117,
     "metadata": {},
     "output_type": "execute_result"
    }
   ],
   "source": [
    "df"
   ]
  },
  {
   "cell_type": "code",
   "execution_count": 118,
   "metadata": {},
   "outputs": [
    {
     "name": "stdout",
     "output_type": "stream",
     "text": [
      "462\n",
      "Accuracy: 0.0695\n"
     ]
    }
   ],
   "source": [
    "# Tính độ chính xác\n",
    "correct_predictions = (df['Label'] == df['Predicted_Label']).sum()\n",
    "total_predictions = len(df)\n",
    "\n",
    "accuracy = correct_predictions / total_predictions\n",
    "\n",
    "# In kết quả độ chính xác\n",
    "print(correct_predictions)\n",
    "print(f\"Accuracy: {accuracy:.4f}\")"
   ]
  },
  {
   "cell_type": "code",
   "execution_count": 114,
   "metadata": {},
   "outputs": [
    {
     "data": {
      "image/png": "[encoded data removed]",
      "text/plain": [
       "<Figure size 500x500 with 1 Axes>"
      ]
     },
     "metadata": {},
     "output_type": "display_data"
    },
    {
     "data": {
      "image/png": "[encoded data removed]",
      "text/plain": [
       "<Figure size 500x500 with 1 Axes>"
      ]
     },
     "metadata": {},
     "output_type": "display_data"
    },
    {
     "data": {
      "image/png": "[encoded data removed]",
      "text/plain": [
       "<Figure size 500x500 with 1 Axes>"
      ]
     },
     "metadata": {},
     "output_type": "display_data"
    },
    {
     "data": {
      "image/png": "[encoded data removed]",
      "text/plain": [
       "<Figure size 500x500 with 1 Axes>"
      ]
     },
     "metadata": {},
     "output_type": "display_data"
    },
    {
     "data": {
      "image/png": "[encoded data removed]",
      "text/plain": [
       "<Figure size 500x500 with 1 Axes>"
      ]
     },
     "metadata": {},
     "output_type": "display_data"
    }
   ],
   "source": [
    "incorrect_predictions = df[df['Label'] != df['Predicted_Label']].sample(n=5, random_state=42)\n",
    "\n",
    "# Hiển thị ảnh bị dự đoán sai\n",
    "%matplotlib inline\n",
    "for index, row in incorrect_predictions.iterrows():\n",
    "    image_path = os.path.join(dir_path, row[\"Name\"])  # Thay bằng đường dẫn thực tế\n",
    "    if os.path.exists(image_path):\n",
    "        img = cv2.imread(image_path)\n",
    "        img = cv2.cvtColor(img, cv2.COLOR_BGR2RGB)\n",
    "\n",
    "        plt.figure(figsize=(5, 5))\n",
    "        plt.imshow(img)\n",
    "        plt.axis(\"off\")\n",
    "        plt.title(f\"GT: {row['Label']} | Pred: {row['Predicted_Label']}\", fontsize=12, color='red')\n",
    "        plt.show()\n",
    "    else:\n",
    "        print(f\"Ảnh {row['Name']} không tồn tại.\")"
   ]
  }
 ],
 "metadata": {
  "kernelspec": {
   "display_name": "yolov5_env",
   "language": "python",
   "name": "python3"
  },
  "language_info": {
   "codemirror_mode": {
    "name": "ipython",
    "version": 3
   },
   "file_extension": ".py",
   "mimetype": "text/x-python",
   "name": "python",
   "nbconvert_exporter": "python",
   "pygments_lexer": "ipython3",
   "version": "3.12.3"
  }
 },
 "nbformat": 4,
 "nbformat_minor": 2
}
